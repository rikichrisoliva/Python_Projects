{
 "cells": [
  {
   "cell_type": "code",
   "execution_count": 52,
   "id": "192a5db3",
   "metadata": {},
   "outputs": [],
   "source": [
    "from os import scandir, listdir\n",
    "source_dir = \"C:\\\\Users\\Riki\\Downloads\""
   ]
  },
  {
   "cell_type": "code",
   "execution_count": 53,
   "id": "5ba6fb87",
   "metadata": {},
   "outputs": [
    {
     "data": {
      "text/plain": [
       "<nt.ScandirIterator at 0x19fa5c93050>"
      ]
     },
     "execution_count": 53,
     "metadata": {},
     "output_type": "execute_result"
    }
   ],
   "source": [
    "scandir(source_dir)"
   ]
  },
  {
   "cell_type": "code",
   "execution_count": 92,
   "id": "b1e3428d",
   "metadata": {
    "scrolled": true
   },
   "outputs": [
    {
     "data": {
      "text/plain": [
       "['1403738__QNX8VSGM1Y87696S_voucher.pdf',\n",
       " '1433988__CKNOZ0ZTOLYESVBO_voucher.pdf',\n",
       " '2602672364_842002690865_20201201_114248.pdf',\n",
       " '7304.pdf',\n",
       " '8054_en_confirm.pdf',\n",
       " '9.pdf',\n",
       " 'Address registration form EN.pdf',\n",
       " 'Address registration form.pdf',\n",
       " 'AMC.JPG',\n",
       " 'AMC_Embedded_msi.msi',\n",
       " 'Anniversary Fund Statement (1).pdf',\n",
       " 'Anniversary Fund Statement.pdf',\n",
       " 'app (2).rdp',\n",
       " 'app.rdp',\n",
       " 'archi-budapest.txt',\n",
       " 'August 2020 vaca trip.txt',\n",
       " 'azure-cli-2.40.0.msi',\n",
       " 'Bankszámlakivonat_OLIVA_PATRICK_CHRIS_20220401.pdf',\n",
       " 'Bankszámlakivonat_OLIVA_PATRICK_CHRIS_20220501.pdf',\n",
       " 'Bankszámlakivonat_OLIVA_PATRICK_CHRIS_20220601.pdf',\n",
       " 'BE20200319.pdf',\n",
       " 'BoardingCard_243882590_BUD_MXP.pdf',\n",
       " 'BPJóalbérlet.docx',\n",
       " 'certbot-beta-installer-win_amd64.exe',\n",
       " 'CiscoJVDIClientSetup-x86_64.msi',\n",
       " 'citibank.pdf',\n",
       " 'debitcardstatement-visa-application-October2019.pdf',\n",
       " 'declaration_of_consent_from_flat_owner.jpg',\n",
       " 'deployment.yaml',\n",
       " 'desktop.ini',\n",
       " 'Docker Desktop Installer.exe',\n",
       " 'dPLF.pdf',\n",
       " 'E-Ticket.pdf',\n",
       " 'Einreiseanmeldung.pdf',\n",
       " 'EU vaccination certificate 1.pdf',\n",
       " 'EU vaccination certificate 2.pdf',\n",
       " 'EU vaccination certificate 3.pdf',\n",
       " 'Git-2.37.3-64-bit.exe',\n",
       " 'Gpedit-Enabler-for-Windows-11.bat',\n",
       " 'green_tripdata_daily.csv',\n",
       " 'green_tripdata_hourly.csv',\n",
       " 'hozzajarulo_nyilatkozat_3._oltashoz.pdf',\n",
       " 'jenkins.msi',\n",
       " 'Lakossági időpontfoglalás (COVID vakcina).pdf',\n",
       " 'List.txt',\n",
       " 'mommy_phone.txt',\n",
       " 'mongosh-1.6.1-win32-x64',\n",
       " 'Neumannlabs_Examination_Request_Form.pdf',\n",
       " 'NeumannLabs_PCR_Test_Results.pdf',\n",
       " 'nginx-1.23.1',\n",
       " 'nginx-1.23.1.zip',\n",
       " 'oc',\n",
       " 'ocm-windows-amd64',\n",
       " 'OfferLetter.pdf',\n",
       " 'Oliva, P. 090FJ, 21.01.2020.pdf',\n",
       " 'Oliva, Patrick Chris - Tax nr. cert. - Nr. 8424504704 - Issued_ Jan 16, 2020.pdf',\n",
       " 'Oliva-P.-090FJ-21.01.2020.pdf',\n",
       " 'Panfilo Oliva paid travel and health insurance.jpg',\n",
       " 'PATRICK CHRIS H OLIVA_protected.pdf',\n",
       " 'Perlita Haoson Oliva paid travel and health insurance.jpg',\n",
       " 'postgresql-15.0-2-windows-x64.exe',\n",
       " 'python-3.11.0-amd64.exe',\n",
       " 'Residential appointment booking (COVID vaccine).pdf',\n",
       " 'respecimenofsignaturefromgabor.zip',\n",
       " 'rhoas_0.51.7_windows_amd64',\n",
       " 'Riki-PC.JPG',\n",
       " 'szamla_20220617_FCS_80247899.pdf',\n",
       " 'szamla_20220617_FVV_02228431.pdf',\n",
       " 'SZAMVITELI BIZONYLAT KÉRÉS-en 2018.docx',\n",
       " 'szerz.fo.2020_2020-03-02-19-24-56.pdf',\n",
       " 'terraform_1.3.2_windows_386.zip',\n",
       " 'tickets.JPG',\n",
       " 'Travel Destination.txt',\n",
       " 'updatedsecondpageleasecontract.jpg',\n",
       " 'vacation-2021.txt',\n",
       " 'vaccinelocationhungarian.JPG',\n",
       " 'video-1601685477.mp4',\n",
       " 'visszaigazolas-nyomtatasa.pdf',\n",
       " 'VisualStudioSetup.exe',\n",
       " 'VSCodeUserSetup-x64-1.72.2.exe',\n",
       " 'Webex.msi',\n",
       " 'winzip27.exe',\n",
       " 'wsl_update_x64.msi',\n",
       " 'zoom.jpg',\n",
       " 'ZoomCitrixHDXMediaPlugin.msi',\n",
       " 'ZoomCitrixHDXMediaPlugin_4.6.15630.0430.msi',\n",
       " '_hozzajarulo_nyilatkozat_vedooltashoz_0.pdf']"
      ]
     },
     "execution_count": 92,
     "metadata": {},
     "output_type": "execute_result"
    }
   ],
   "source": [
    "listdir(source_dir)"
   ]
  },
  {
   "cell_type": "code",
   "execution_count": 93,
   "id": "a0cef161",
   "metadata": {
    "scrolled": false
   },
   "outputs": [
    {
     "name": "stdout",
     "output_type": "stream",
     "text": [
      "<DirEntry '1403738__QNX8VSGM1Y87696S_voucher.pdf'>\n",
      "1403738__QNX8VSGM1Y87696S_voucher.pdf\n",
      "<DirEntry '1433988__CKNOZ0ZTOLYESVBO_voucher.pdf'>\n",
      "1433988__CKNOZ0ZTOLYESVBO_voucher.pdf\n",
      "<DirEntry '2602672364_842002690865_20201201_114248.pdf'>\n",
      "2602672364_842002690865_20201201_114248.pdf\n",
      "<DirEntry '7304.pdf'>\n",
      "7304.pdf\n",
      "<DirEntry '8054_en_confirm.pdf'>\n",
      "8054_en_confirm.pdf\n",
      "<DirEntry '9.pdf'>\n",
      "9.pdf\n",
      "<DirEntry 'Address registration form EN.pdf'>\n",
      "Address registration form EN.pdf\n",
      "<DirEntry 'Address registration form.pdf'>\n",
      "Address registration form.pdf\n",
      "<DirEntry 'AMC.JPG'>\n",
      "AMC.JPG\n",
      "<DirEntry 'AMC_Embedded_msi.msi'>\n",
      "AMC_Embedded_msi.msi\n",
      "<DirEntry 'Anniversary Fund Statement (1).pdf'>\n",
      "Anniversary Fund Statement (1).pdf\n",
      "<DirEntry 'Anniversary Fund Statement.pdf'>\n",
      "Anniversary Fund Statement.pdf\n",
      "<DirEntry 'app (2).rdp'>\n",
      "app (2).rdp\n",
      "<DirEntry 'app.rdp'>\n",
      "app.rdp\n",
      "<DirEntry 'archi-budapest.txt'>\n",
      "archi-budapest.txt\n",
      "<DirEntry 'August 2020 vaca trip.txt'>\n",
      "August 2020 vaca trip.txt\n",
      "<DirEntry 'azure-cli-2.40.0.msi'>\n",
      "azure-cli-2.40.0.msi\n",
      "<DirEntry 'Bankszámlakivonat_OLIVA_PATRICK_CHRIS_20220401.pdf'>\n",
      "Bankszámlakivonat_OLIVA_PATRICK_CHRIS_20220401.pdf\n",
      "<DirEntry 'Bankszámlakivonat_OLIVA_PATRICK_CHRIS_20220501.pdf'>\n",
      "Bankszámlakivonat_OLIVA_PATRICK_CHRIS_20220501.pdf\n",
      "<DirEntry 'Bankszámlakivonat_OLIVA_PATRICK_CHRIS_20220601.pdf'>\n",
      "Bankszámlakivonat_OLIVA_PATRICK_CHRIS_20220601.pdf\n",
      "<DirEntry 'BE20200319.pdf'>\n",
      "BE20200319.pdf\n",
      "<DirEntry 'BoardingCard_243882590_BUD_MXP.pdf'>\n",
      "BoardingCard_243882590_BUD_MXP.pdf\n",
      "<DirEntry 'BPJóalbérlet.docx'>\n",
      "BPJóalbérlet.docx\n",
      "<DirEntry 'certbot-beta-installer-win_amd64.exe'>\n",
      "certbot-beta-installer-win_amd64.exe\n",
      "<DirEntry 'CiscoJVDIClientSetup-x86_64.msi'>\n",
      "CiscoJVDIClientSetup-x86_64.msi\n",
      "<DirEntry 'citibank.pdf'>\n",
      "citibank.pdf\n",
      "<DirEntry 'debitcardstatement-visa-application-October2019.pdf'>\n",
      "debitcardstatement-visa-application-October2019.pdf\n",
      "<DirEntry 'declaration_of_consent_from_flat_owner.jpg'>\n",
      "declaration_of_consent_from_flat_owner.jpg\n",
      "<DirEntry 'deployment.yaml'>\n",
      "deployment.yaml\n",
      "<DirEntry 'desktop.ini'>\n",
      "desktop.ini\n",
      "<DirEntry 'Docker Desktop Installer.exe'>\n",
      "Docker Desktop Installer.exe\n",
      "<DirEntry 'dPLF.pdf'>\n",
      "dPLF.pdf\n",
      "<DirEntry 'E-Ticket.pdf'>\n",
      "E-Ticket.pdf\n",
      "<DirEntry 'Einreiseanmeldung.pdf'>\n",
      "Einreiseanmeldung.pdf\n",
      "<DirEntry 'EU vaccination certificate 1.pdf'>\n",
      "EU vaccination certificate 1.pdf\n",
      "<DirEntry 'EU vaccination certificate 2.pdf'>\n",
      "EU vaccination certificate 2.pdf\n",
      "<DirEntry 'EU vaccination certificate 3.pdf'>\n",
      "EU vaccination certificate 3.pdf\n",
      "<DirEntry 'Git-2.37.3-64-bit.exe'>\n",
      "Git-2.37.3-64-bit.exe\n",
      "<DirEntry 'Gpedit-Enabler-for-Windows-11.bat'>\n",
      "Gpedit-Enabler-for-Windows-11.bat\n",
      "<DirEntry 'green_tripdata_daily.csv'>\n",
      "green_tripdata_daily.csv\n",
      "<DirEntry 'green_tripdata_hourly.csv'>\n",
      "green_tripdata_hourly.csv\n",
      "<DirEntry 'hozzajarulo_nyilatkozat_3._oltashoz.pdf'>\n",
      "hozzajarulo_nyilatkozat_3._oltashoz.pdf\n",
      "<DirEntry 'jenkins.msi'>\n",
      "jenkins.msi\n",
      "<DirEntry 'Lakossági időpontfoglalás (COVID vakcina).pdf'>\n",
      "Lakossági időpontfoglalás (COVID vakcina).pdf\n",
      "<DirEntry 'List.txt'>\n",
      "List.txt\n",
      "<DirEntry 'mommy_phone.txt'>\n",
      "mommy_phone.txt\n",
      "<DirEntry 'mongosh-1.6.1-win32-x64'>\n",
      "mongosh-1.6.1-win32-x64\n",
      "<DirEntry 'Neumannlabs_Examination_Request_Form.pdf'>\n",
      "Neumannlabs_Examination_Request_Form.pdf\n",
      "<DirEntry 'NeumannLabs_PCR_Test_Results.pdf'>\n",
      "NeumannLabs_PCR_Test_Results.pdf\n",
      "<DirEntry 'nginx-1.23.1'>\n",
      "nginx-1.23.1\n",
      "<DirEntry 'nginx-1.23.1.zip'>\n",
      "nginx-1.23.1.zip\n",
      "<DirEntry 'oc'>\n",
      "oc\n",
      "<DirEntry 'ocm-windows-amd64'>\n",
      "ocm-windows-amd64\n",
      "<DirEntry 'OfferLetter.pdf'>\n",
      "OfferLetter.pdf\n",
      "<DirEntry 'Oliva, P. 090FJ, 21.01.2020.pdf'>\n",
      "Oliva, P. 090FJ, 21.01.2020.pdf\n",
      "<DirEntry 'Oliva, Patrick Chris - Tax nr. cert. - Nr. 8424504704 - Issued_ Jan 16, 2020.pdf'>\n",
      "Oliva, Patrick Chris - Tax nr. cert. - Nr. 8424504704 - Issued_ Jan 16, 2020.pdf\n",
      "<DirEntry 'Oliva-P.-090FJ-21.01.2020.pdf'>\n",
      "Oliva-P.-090FJ-21.01.2020.pdf\n",
      "<DirEntry 'Panfilo Oliva paid travel and health insurance.jpg'>\n",
      "Panfilo Oliva paid travel and health insurance.jpg\n",
      "<DirEntry 'PATRICK CHRIS H OLIVA_protected.pdf'>\n",
      "PATRICK CHRIS H OLIVA_protected.pdf\n",
      "<DirEntry 'Perlita Haoson Oliva paid travel and health insurance.jpg'>\n",
      "Perlita Haoson Oliva paid travel and health insurance.jpg\n",
      "<DirEntry 'postgresql-15.0-2-windows-x64.exe'>\n",
      "postgresql-15.0-2-windows-x64.exe\n",
      "<DirEntry 'python-3.11.0-amd64.exe'>\n",
      "python-3.11.0-amd64.exe\n",
      "<DirEntry 'Residential appointment booking (COVID vaccine).pdf'>\n",
      "Residential appointment booking (COVID vaccine).pdf\n",
      "<DirEntry 'respecimenofsignaturefromgabor.zip'>\n",
      "respecimenofsignaturefromgabor.zip\n",
      "<DirEntry 'rhoas_0.51.7_windows_amd64'>\n",
      "rhoas_0.51.7_windows_amd64\n",
      "<DirEntry 'Riki-PC.JPG'>\n",
      "Riki-PC.JPG\n",
      "<DirEntry 'szamla_20220617_FCS_80247899.pdf'>\n",
      "szamla_20220617_FCS_80247899.pdf\n",
      "<DirEntry 'szamla_20220617_FVV_02228431.pdf'>\n",
      "szamla_20220617_FVV_02228431.pdf\n",
      "<DirEntry 'SZAMVITELI BIZONYLAT KÉRÉS-en 2018.docx'>\n",
      "SZAMVITELI BIZONYLAT KÉRÉS-en 2018.docx\n",
      "<DirEntry 'szerz.fo.2020_2020-03-02-19-24-56.pdf'>\n",
      "szerz.fo.2020_2020-03-02-19-24-56.pdf\n",
      "<DirEntry 'terraform_1.3.2_windows_386.zip'>\n",
      "terraform_1.3.2_windows_386.zip\n",
      "<DirEntry 'tickets.JPG'>\n",
      "tickets.JPG\n",
      "<DirEntry 'Travel Destination.txt'>\n",
      "Travel Destination.txt\n",
      "<DirEntry 'updatedsecondpageleasecontract.jpg'>\n",
      "updatedsecondpageleasecontract.jpg\n",
      "<DirEntry 'vacation-2021.txt'>\n",
      "vacation-2021.txt\n",
      "<DirEntry 'vaccinelocationhungarian.JPG'>\n",
      "vaccinelocationhungarian.JPG\n",
      "<DirEntry 'video-1601685477.mp4'>\n",
      "video-1601685477.mp4\n",
      "<DirEntry 'visszaigazolas-nyomtatasa.pdf'>\n",
      "visszaigazolas-nyomtatasa.pdf\n",
      "<DirEntry 'VisualStudioSetup.exe'>\n",
      "VisualStudioSetup.exe\n",
      "<DirEntry 'VSCodeUserSetup-x64-1.72.2.exe'>\n",
      "VSCodeUserSetup-x64-1.72.2.exe\n",
      "<DirEntry 'Webex.msi'>\n",
      "Webex.msi\n",
      "<DirEntry 'winzip27.exe'>\n",
      "winzip27.exe\n",
      "<DirEntry 'wsl_update_x64.msi'>\n",
      "wsl_update_x64.msi\n",
      "<DirEntry 'zoom.jpg'>\n",
      "zoom.jpg\n",
      "<DirEntry 'ZoomCitrixHDXMediaPlugin.msi'>\n",
      "ZoomCitrixHDXMediaPlugin.msi\n",
      "<DirEntry 'ZoomCitrixHDXMediaPlugin_4.6.15630.0430.msi'>\n",
      "ZoomCitrixHDXMediaPlugin_4.6.15630.0430.msi\n",
      "<DirEntry '_hozzajarulo_nyilatkozat_vedooltashoz_0.pdf'>\n",
      "_hozzajarulo_nyilatkozat_vedooltashoz_0.pdf\n"
     ]
    }
   ],
   "source": [
    "with scandir(source_dir) as entries:\n",
    "    for entry in entries:\n",
    "        print(entry)\n",
    "        print(entry.name)"
   ]
  },
  {
   "cell_type": "code",
   "execution_count": 94,
   "id": "e9f319ec",
   "metadata": {},
   "outputs": [],
   "source": [
    "documents_extensions = [\".doc\", \".docx\", \".odt\",\".pdf\", \".xls\", \".xlsx\", \".ppt\", \".pptx\"]"
   ]
  },
  {
   "cell_type": "code",
   "execution_count": 95,
   "id": "dd8c7ee0",
   "metadata": {},
   "outputs": [
    {
     "data": {
      "text/plain": [
       "list"
      ]
     },
     "execution_count": 95,
     "metadata": {},
     "output_type": "execute_result"
    }
   ],
   "source": [
    "type(image_extensions)"
   ]
  },
  {
   "cell_type": "code",
   "execution_count": 96,
   "id": "b5f91a6f",
   "metadata": {
    "scrolled": true
   },
   "outputs": [
    {
     "name": "stdout",
     "output_type": "stream",
     "text": [
      "<DirEntry '_hozzajarulo_nyilatkozat_vedooltashoz_0.pdf'>\n",
      "_hozzajarulo_nyilatkozat_vedooltashoz_0.pdf\n"
     ]
    }
   ],
   "source": [
    "print(entry);print(entry.name)"
   ]
  },
  {
   "cell_type": "code",
   "execution_count": 97,
   "id": "d8729794",
   "metadata": {
    "scrolled": true
   },
   "outputs": [
    {
     "name": "stdout",
     "output_type": "stream",
     "text": [
      "hindi\n",
      "hindi\n",
      "hindi\n",
      "_hozzajarulo_nyilatkozat_vedooltashoz_0.pdf\n",
      "hindi\n",
      "hindi\n",
      "hindi\n",
      "hindi\n"
     ]
    }
   ],
   "source": [
    "name = entry.name\n",
    "for documents_extension in documents_extensions:\n",
    "    if name.endswith(documents_extension):\n",
    "        print(name)\n",
    "    else:\n",
    "        print(\"hindi\")"
   ]
  },
  {
   "cell_type": "code",
   "execution_count": 98,
   "id": "bfed2e88",
   "metadata": {},
   "outputs": [
    {
     "name": "stdout",
     "output_type": "stream",
     "text": [
      "False\n",
      "False\n",
      "False\n",
      "True\n",
      "False\n",
      "False\n",
      "False\n",
      "False\n"
     ]
    }
   ],
   "source": [
    "for documents_extension in documents_extensions:\n",
    "    print(name.endswith(documents_extension))"
   ]
  },
  {
   "cell_type": "code",
   "execution_count": 99,
   "id": "cc28ec35",
   "metadata": {},
   "outputs": [
    {
     "name": "stdout",
     "output_type": "stream",
     "text": [
      ".DOC\n",
      ".DOCX\n",
      ".ODT\n",
      ".PDF\n",
      ".XLS\n",
      ".XLSX\n",
      ".PPT\n",
      ".PPTX\n"
     ]
    }
   ],
   "source": [
    "for documents_extension in documents_extensions:\n",
    "    print(documents_extension.upper())"
   ]
  },
  {
   "cell_type": "code",
   "execution_count": 100,
   "id": "e64b1bb5",
   "metadata": {},
   "outputs": [
    {
     "name": "stdout",
     "output_type": "stream",
     "text": [
      "_hozzajarulo_nyilatkozat_vedooltashoz_0\n",
      ".pdf\n"
     ]
    }
   ],
   "source": [
    "from os.path import splitext, exists, join\n",
    "filename, extension = splitext(name)\n",
    "print(filename)\n",
    "print(extension)"
   ]
  },
  {
   "cell_type": "code",
   "execution_count": 101,
   "id": "70ad241c",
   "metadata": {},
   "outputs": [
    {
     "data": {
      "text/plain": [
       "True"
      ]
     },
     "execution_count": 101,
     "metadata": {},
     "output_type": "execute_result"
    }
   ],
   "source": [
    "dest = \"C:\\\\Users\\Riki\\Downloads\"\n",
    "exists(f\"{dest}/{name}\")"
   ]
  },
  {
   "cell_type": "code",
   "execution_count": 102,
   "id": "e3be9dab",
   "metadata": {},
   "outputs": [
    {
     "data": {
      "text/plain": [
       "False"
      ]
     },
     "execution_count": 102,
     "metadata": {},
     "output_type": "execute_result"
    }
   ],
   "source": [
    "dest = \"C:\\\\Users\\Riki\\Documents\"\n",
    "exists(f\"{dest}/{name}\")"
   ]
  },
  {
   "cell_type": "code",
   "execution_count": 103,
   "id": "cf3e7f0e",
   "metadata": {},
   "outputs": [
    {
     "name": "stdout",
     "output_type": "stream",
     "text": [
      "_hozzajarulo_nyilatkozat_vedooltashoz_0(1).pdf\n"
     ]
    }
   ],
   "source": [
    "counter = 1\n",
    "unique_name = f\"{filename}({str(counter)}){extension}\"\n",
    "print(unique_name)"
   ]
  },
  {
   "cell_type": "code",
   "execution_count": 104,
   "id": "dbf017f8",
   "metadata": {},
   "outputs": [
    {
     "name": "stdout",
     "output_type": "stream",
     "text": [
      "_hozzajarulo_nyilatkozat_vedooltashoz_0(1).pdf\n"
     ]
    }
   ],
   "source": [
    "unique_name = f\"{filename}({counter}){extension}\"\n",
    "print(unique_name)"
   ]
  },
  {
   "cell_type": "code",
   "execution_count": 105,
   "id": "fb40c34d",
   "metadata": {},
   "outputs": [
    {
     "name": "stdout",
     "output_type": "stream",
     "text": [
      "_hozzajarulo_nyilatkozat_vedooltashoz_01.pdf\n"
     ]
    }
   ],
   "source": [
    "unique_name = f\"{filename}{counter}{extension}\"\n",
    "print(unique_name)"
   ]
  },
  {
   "cell_type": "code",
   "execution_count": 106,
   "id": "ef40ed49",
   "metadata": {},
   "outputs": [
    {
     "name": "stdout",
     "output_type": "stream",
     "text": [
      "C:\\Users\\Riki\\Documents\\_hozzajarulo_nyilatkozat_vedooltashoz_0.pdf\n"
     ]
    }
   ],
   "source": [
    "oldName = join(dest, name)\n",
    "print(oldName)"
   ]
  },
  {
   "cell_type": "code",
   "execution_count": 107,
   "id": "fd2b42eb",
   "metadata": {},
   "outputs": [],
   "source": [
    "from os import scandir, rename\n",
    "dest = \"C:\\\\Users\\Riki\\Downloads\"\n",
    "oldName = join(dest, name)\n",
    "newName = join(dest, unique_name)\n",
    "rename(oldName, newName)"
   ]
  },
  {
   "cell_type": "code",
   "execution_count": null,
   "id": "5826aee0",
   "metadata": {},
   "outputs": [],
   "source": []
  }
 ],
 "metadata": {
  "kernelspec": {
   "display_name": "Python 3 (ipykernel)",
   "language": "python",
   "name": "python3"
  },
  "language_info": {
   "codemirror_mode": {
    "name": "ipython",
    "version": 3
   },
   "file_extension": ".py",
   "mimetype": "text/x-python",
   "name": "python",
   "nbconvert_exporter": "python",
   "pygments_lexer": "ipython3",
   "version": "3.11.0"
  }
 },
 "nbformat": 4,
 "nbformat_minor": 5
}
