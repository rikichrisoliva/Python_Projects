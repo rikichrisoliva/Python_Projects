{
 "cells": [
  {
   "cell_type": "code",
   "execution_count": null,
   "id": "552fda29",
   "metadata": {},
   "outputs": [],
   "source": [
    "# https://www.youtube.com/watch?v=yatgY4NpZXE"
   ]
  },
  {
   "cell_type": "code",
   "execution_count": 54,
   "id": "61d52d86",
   "metadata": {},
   "outputs": [],
   "source": [
    "from dataclasses import dataclass\n",
    "from datetime import datetime"
   ]
  },
  {
   "cell_type": "code",
   "execution_count": 55,
   "id": "69c1e29b",
   "metadata": {},
   "outputs": [],
   "source": [
    "@dataclass()\n",
    "class Customer:\n",
    "    name: str\n",
    "    phone: str\n",
    "    cc_number: str\n",
    "    cc_exp_month: int\n",
    "    cc_exp_year: int"
   ]
  },
  {
   "cell_type": "code",
   "execution_count": 56,
   "id": "d64df430",
   "metadata": {},
   "outputs": [],
   "source": [
    "# asterisk in front of the function parameters means you are forcing the use of keyword arguments in Python (see below example)\n",
    "def validate_card(*, exp_month: int, exp_year: int) -> bool:\n",
    "    return datetime(exp_year, exp_month, 1) > datetime.now()"
   ]
  },
  {
   "cell_type": "code",
   "execution_count": 57,
   "id": "70e637b1",
   "metadata": {},
   "outputs": [],
   "source": [
    "alice = Customer(\n",
    "    name=\"Alice\",\n",
    "    phone=\"2341\",\n",
    "    cc_number=\"1249190007575069\",\n",
    "    cc_exp_month=1,\n",
    "    cc_exp_year=2024,\n",
    ")"
   ]
  },
  {
   "cell_type": "code",
   "execution_count": 58,
   "id": "a82a9d28",
   "metadata": {
    "scrolled": true
   },
   "outputs": [
    {
     "data": {
      "text/plain": [
       "datetime.datetime(2022, 12, 21, 16, 23, 44, 24339)"
      ]
     },
     "execution_count": 58,
     "metadata": {},
     "output_type": "execute_result"
    }
   ],
   "source": [
    "datetime.now()"
   ]
  },
  {
   "cell_type": "code",
   "execution_count": 59,
   "id": "c08dd345",
   "metadata": {},
   "outputs": [
    {
     "data": {
      "text/plain": [
       "datetime.datetime(2024, 1, 1, 0, 0)"
      ]
     },
     "execution_count": 59,
     "metadata": {},
     "output_type": "execute_result"
    }
   ],
   "source": [
    "datetime(alice.cc_exp_year, alice.cc_exp_month, 1)"
   ]
  },
  {
   "cell_type": "code",
   "execution_count": 60,
   "id": "5077fb21",
   "metadata": {},
   "outputs": [
    {
     "data": {
      "text/plain": [
       "True"
      ]
     },
     "execution_count": 60,
     "metadata": {},
     "output_type": "execute_result"
    }
   ],
   "source": [
    "datetime(alice.cc_exp_year, alice.cc_exp_month, 1) > datetime.now()"
   ]
  },
  {
   "cell_type": "code",
   "execution_count": 61,
   "id": "49134dae",
   "metadata": {},
   "outputs": [
    {
     "ename": "TypeError",
     "evalue": "validate_card() takes 0 positional arguments but 2 were given",
     "output_type": "error",
     "traceback": [
      "\u001b[1;31m---------------------------------------------------------------------------\u001b[0m",
      "\u001b[1;31mTypeError\u001b[0m                                 Traceback (most recent call last)",
      "Cell \u001b[1;32mIn[61], line 4\u001b[0m\n\u001b[0;32m      1\u001b[0m \u001b[38;5;66;03m# only request information you actually need\u001b[39;00m\n\u001b[0;32m      2\u001b[0m \u001b[38;5;66;03m# if the function only requires some properties from the class, then don't put to the parameter of the function the while class object alice, but break it down to the class properties\u001b[39;00m\n\u001b[0;32m      3\u001b[0m \u001b[38;5;66;03m# don't do like this validate_card(alice)\u001b[39;00m\n\u001b[1;32m----> 4\u001b[0m \u001b[43mvalidate_card\u001b[49m\u001b[43m(\u001b[49m\u001b[43malice\u001b[49m\u001b[38;5;241;43m.\u001b[39;49m\u001b[43mcc_exp_month\u001b[49m\u001b[43m,\u001b[49m\u001b[43m \u001b[49m\u001b[43malice\u001b[49m\u001b[38;5;241;43m.\u001b[39;49m\u001b[43mcc_exp_year\u001b[49m\u001b[43m)\u001b[49m\n",
      "\u001b[1;31mTypeError\u001b[0m: validate_card() takes 0 positional arguments but 2 were given"
     ]
    }
   ],
   "source": [
    "# only request information you actually need\n",
    "# if the function only requires some properties from the class, then don't put to the parameter of the function the while class object alice, but break it down to the class properties\n",
    "# don't do like this validate_card(alice)\n",
    "validate_card(alice.cc_exp_month, alice.cc_exp_year)"
   ]
  },
  {
   "cell_type": "code",
   "execution_count": 62,
   "id": "f7a5b09c",
   "metadata": {},
   "outputs": [
    {
     "data": {
      "text/plain": [
       "True"
      ]
     },
     "execution_count": 62,
     "metadata": {},
     "output_type": "execute_result"
    }
   ],
   "source": [
    "# to make your function more clear, use keyword argument\n",
    "# use the keyword from the definition of the function\n",
    "validate_card(exp_month=alice.cc_exp_month, exp_year=alice.cc_exp_year)"
   ]
  },
  {
   "cell_type": "code",
   "execution_count": 83,
   "id": "347f87e3",
   "metadata": {},
   "outputs": [],
   "source": [
    "# you can force the use of keyword arguments in Python, add an asterisk in front of the function parameters\n",
    "# def validate_card(*, exp_month: int, exp_year: int) -> bool:\n",
    "#     return datetime(exp_year, exp_month, 1) > datetime.now()"
   ]
  },
  {
   "cell_type": "code",
   "execution_count": 85,
   "id": "9bb8b6d2",
   "metadata": {},
   "outputs": [
    {
     "data": {
      "text/plain": [
       "True"
      ]
     },
     "execution_count": 85,
     "metadata": {},
     "output_type": "execute_result"
    }
   ],
   "source": [
    "# Keep the number of parameters minimal\n",
    "# Python's typing module provides runtime support for type hints\n",
    "# typing module attempts to provide a way of hinting types to help static type checkers and linters accurately predict errors.\n",
    "from typing import Protocol\n",
    "\n",
    "\n",
    "# @property decorator - https://www.freecodecamp.org/news/python-property-decorator/#:~:text=The%20%40property%20is%20a%20built,define%20properties%20in%20a%20class.\n",
    "\n",
    "\n",
    "class CardInfo(Protocol):\n",
    "    @property\n",
    "    def number(self) -> str:\n",
    "        ...\n",
    "        \n",
    "    @property\n",
    "    def exp_month(self) -> str:\n",
    "        ...\n",
    "\n",
    "    @property\n",
    "    def exp_year(self) -> str:\n",
    "        ...\n",
    "\n",
    "def validate_card_2(card: CardInfo) -> bool:\n",
    "    return datetime(card.exp_year, card.exp_month, 1) > datetime.now()\n",
    "\n",
    "\n",
    "@dataclass()\n",
    "class Customer:\n",
    "    name: str\n",
    "    phone: str\n",
    "    cc_number: str\n",
    "    exp_month: int\n",
    "    exp_year: int\n",
    "\n",
    "        \n",
    "alice = Customer(\n",
    "    name=\"Alice\",\n",
    "    phone=\"2341\",\n",
    "    cc_number=\"1249190007575069\",\n",
    "    exp_month=1,\n",
    "    exp_year=2024,\n",
    ")\n",
    "        \n",
    "\n",
    "validate_card_2(alice)"
   ]
  },
  {
   "cell_type": "code",
   "execution_count": 89,
   "id": "99a5fcbc",
   "metadata": {},
   "outputs": [],
   "source": [
    "def validate_card_2(card: CardInfo):\n",
    "    return datetime(card.exp_year, card.exp_month, 1)"
   ]
  },
  {
   "cell_type": "code",
   "execution_count": 94,
   "id": "5bffb96e",
   "metadata": {},
   "outputs": [
    {
     "ename": "AttributeError",
     "evalue": "'Customer' object has no attribute 'exp_year'",
     "output_type": "error",
     "traceback": [
      "\u001b[1;31m---------------------------------------------------------------------------\u001b[0m",
      "\u001b[1;31mAttributeError\u001b[0m                            Traceback (most recent call last)",
      "Cell \u001b[1;32mIn[94], line 1\u001b[0m\n\u001b[1;32m----> 1\u001b[0m \u001b[43mvalidate_card_2\u001b[49m\u001b[43m(\u001b[49m\u001b[43malice\u001b[49m\u001b[43m)\u001b[49m\n",
      "Cell \u001b[1;32mIn[89], line 2\u001b[0m, in \u001b[0;36mvalidate_card_2\u001b[1;34m(card)\u001b[0m\n\u001b[0;32m      1\u001b[0m \u001b[38;5;28;01mdef\u001b[39;00m \u001b[38;5;21mvalidate_card_2\u001b[39m(card: CardInfo):\n\u001b[1;32m----> 2\u001b[0m     \u001b[38;5;28;01mreturn\u001b[39;00m datetime(\u001b[43mcard\u001b[49m\u001b[38;5;241;43m.\u001b[39;49m\u001b[43mexp_year\u001b[49m, card\u001b[38;5;241m.\u001b[39mexp_month, \u001b[38;5;241m1\u001b[39m)\n",
      "\u001b[1;31mAttributeError\u001b[0m: 'Customer' object has no attribute 'exp_year'"
     ]
    }
   ],
   "source": [
    "validate_card_2(alice)"
   ]
  },
  {
   "cell_type": "code",
   "execution_count": 107,
   "id": "9b02dd84",
   "metadata": {},
   "outputs": [
    {
     "data": {
      "text/plain": [
       "True"
      ]
     },
     "execution_count": 107,
     "metadata": {},
     "output_type": "execute_result"
    }
   ],
   "source": [
    "@dataclass()\n",
    "class Card_Exp:\n",
    "    exp_month: int\n",
    "    exp_year: int\n",
    "        \n",
    "@dataclass()\n",
    "class Customer:\n",
    "    name: str\n",
    "    phone: str\n",
    "    cc_number: str\n",
    "    cardexpattr: Card_Exp\n",
    "\n",
    "class CardInfo(Protocol):\n",
    "    @property\n",
    "    def number(self) -> str:\n",
    "        ...\n",
    "        \n",
    "    @property\n",
    "    def exp_month(self) -> str:\n",
    "        ...\n",
    "\n",
    "    @property\n",
    "    def exp_year(self) -> str:\n",
    "        ...\n",
    "\n",
    "def validate_card_3(*, card: CardInfo) -> bool:\n",
    "    return datetime(card.exp_year, card.exp_month, 1) > datetime.now()\n",
    "\n",
    "cardexpobject = Card_Exp(\n",
    "    exp_month=1,\n",
    "    exp_year=2024,\n",
    ")\n",
    "\n",
    "alice = Customer(\n",
    "    name=\"Alice\",\n",
    "    phone=\"2341\",\n",
    "    cc_number=\"1249190007575069\",\n",
    "    cardexpattr=cardexpobject,\n",
    ")\n",
    "        \n",
    "validate_card_3(card=cardexpobject)"
   ]
  },
  {
   "cell_type": "code",
   "execution_count": 129,
   "id": "bed3e48a",
   "metadata": {},
   "outputs": [
    {
     "data": {
      "text/plain": [
       "'hello'"
      ]
     },
     "execution_count": 129,
     "metadata": {},
     "output_type": "execute_result"
    }
   ],
   "source": [
    "# don't create an object from a class inside a function, but pass that class object as an argument into a function\n",
    "\n",
    "class Riki:\n",
    "    def display(self, messagee: str) -> str:\n",
    "        return messagee\n",
    "\n",
    "def function(object: Riki) -> str:\n",
    "    return object.display(\"hello\")\n",
    "\n",
    "real_object = Riki()\n",
    "function(real_object)"
   ]
  }
 ],
 "metadata": {
  "kernelspec": {
   "display_name": "Python 3 (ipykernel)",
   "language": "python",
   "name": "python3"
  },
  "language_info": {
   "codemirror_mode": {
    "name": "ipython",
    "version": 3
   },
   "file_extension": ".py",
   "mimetype": "text/x-python",
   "name": "python",
   "nbconvert_exporter": "python",
   "pygments_lexer": "ipython3",
   "version": "3.11.0"
  }
 },
 "nbformat": 4,
 "nbformat_minor": 5
}
