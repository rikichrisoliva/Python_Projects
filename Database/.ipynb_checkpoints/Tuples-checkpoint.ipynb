{
 "cells": [
  {
   "cell_type": "code",
   "execution_count": 1,
   "id": "41aea0c2",
   "metadata": {},
   "outputs": [],
   "source": [
    "list_of_tuples = [(1,'Riki','Oliva',39),(2,'Marky','Castro',38),(3,'Poch','Canzon',37),(4,'Kristel','Dalawampu',32),]"
   ]
  },
  {
   "cell_type": "code",
   "execution_count": 2,
   "id": "dc57518d",
   "metadata": {},
   "outputs": [
    {
     "name": "stdout",
     "output_type": "stream",
     "text": [
      "[1]: Riki Oliva - 39\n",
      "[2]: Marky Castro - 38\n",
      "[3]: Poch Canzon - 37\n",
      "[4]: Kristel Dalawampu - 32\n"
     ]
    }
   ],
   "source": [
    "for tuple in list_of_tuples:\n",
    "    id, firstname, lastname, age = tuple\n",
    "    print(f\"[{id}]: {firstname} {lastname} - {age}\")"
   ]
  }
 ],
 "metadata": {
  "kernelspec": {
   "display_name": "Python 3 (ipykernel)",
   "language": "python",
   "name": "python3"
  },
  "language_info": {
   "codemirror_mode": {
    "name": "ipython",
    "version": 3
   },
   "file_extension": ".py",
   "mimetype": "text/x-python",
   "name": "python",
   "nbconvert_exporter": "python",
   "pygments_lexer": "ipython3",
   "version": "3.11.0"
  }
 },
 "nbformat": 4,
 "nbformat_minor": 5
}
