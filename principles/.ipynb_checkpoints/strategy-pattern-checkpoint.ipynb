{
 "cells": [
  {
   "cell_type": "code",
   "execution_count": 2,
   "id": "1b9f20e4",
   "metadata": {},
   "outputs": [],
   "source": [
    "list = [\"a\", \"b\", \"c\", \"d\"]"
   ]
  },
  {
   "cell_type": "code",
   "execution_count": 3,
   "id": "c9948e27",
   "metadata": {},
   "outputs": [
    {
     "data": {
      "text/plain": [
       "['a', 'b', 'c', 'd']"
      ]
     },
     "execution_count": 3,
     "metadata": {},
     "output_type": "execute_result"
    }
   ],
   "source": [
    "list.copy()"
   ]
  },
  {
   "cell_type": "code",
   "execution_count": 5,
   "id": "d6de774e",
   "metadata": {},
   "outputs": [
    {
     "name": "stdout",
     "output_type": "stream",
     "text": [
      "['a', 'b', 'c', 'd']\n"
     ]
    }
   ],
   "source": [
    "print(list.copy())"
   ]
  },
  {
   "cell_type": "code",
   "execution_count": 20,
   "id": "ac6c770b",
   "metadata": {},
   "outputs": [
    {
     "name": "stdout",
     "output_type": "stream",
     "text": [
      "None\n"
     ]
    }
   ],
   "source": [
    "list.copy().reverse()"
   ]
  },
  {
   "cell_type": "code",
   "execution_count": 21,
   "id": "7e5dd57a",
   "metadata": {},
   "outputs": [
    {
     "name": "stdout",
     "output_type": "stream",
     "text": [
      "['d', 'c', 'b', 'a']\n"
     ]
    }
   ],
   "source": [
    "print(list)"
   ]
  },
  {
   "cell_type": "code",
   "execution_count": 22,
   "id": "c50ae6c1",
   "metadata": {},
   "outputs": [],
   "source": [
    "list_copy = list.copy()"
   ]
  },
  {
   "cell_type": "code",
   "execution_count": 23,
   "id": "50145ead",
   "metadata": {},
   "outputs": [
    {
     "data": {
      "text/plain": [
       "list"
      ]
     },
     "execution_count": 23,
     "metadata": {},
     "output_type": "execute_result"
    }
   ],
   "source": [
    "type(list_copy)"
   ]
  },
  {
   "cell_type": "code",
   "execution_count": 24,
   "id": "78fe6161",
   "metadata": {},
   "outputs": [],
   "source": [
    "list_copy.reverse()"
   ]
  },
  {
   "cell_type": "code",
   "execution_count": 25,
   "id": "0bb28c9e",
   "metadata": {},
   "outputs": [
    {
     "name": "stdout",
     "output_type": "stream",
     "text": [
      "['a', 'b', 'c', 'd']\n"
     ]
    }
   ],
   "source": [
    "print(list_copy)"
   ]
  },
  {
   "cell_type": "code",
   "execution_count": 30,
   "id": "86a7c1a6",
   "metadata": {},
   "outputs": [],
   "source": [
    "class SupportTicket:\n",
    "\n",
    "    def __init__(self, customer, issue):\n",
    "        self.customer = customer\n",
    "        self.issue = issue"
   ]
  },
  {
   "cell_type": "code",
   "execution_count": 31,
   "id": "88e5c409",
   "metadata": {},
   "outputs": [],
   "source": [
    "tickets = []"
   ]
  },
  {
   "cell_type": "code",
   "execution_count": 32,
   "id": "a1a858df",
   "metadata": {},
   "outputs": [
    {
     "data": {
      "text/plain": [
       "<__main__.SupportTicket at 0x229d453e410>"
      ]
     },
     "execution_count": 32,
     "metadata": {},
     "output_type": "execute_result"
    }
   ],
   "source": [
    "SupportTicket(\"John Smith\", \"My computer makes strange sounds!\")"
   ]
  },
  {
   "cell_type": "code",
   "execution_count": 33,
   "id": "4c3b2a4b",
   "metadata": {},
   "outputs": [],
   "source": [
    "tickets.append(SupportTicket(\"John Smith\", \"My computer makes strange sounds!\"))"
   ]
  },
  {
   "cell_type": "code",
   "execution_count": 38,
   "id": "9114f804",
   "metadata": {},
   "outputs": [
    {
     "data": {
      "text/plain": [
       "list"
      ]
     },
     "execution_count": 38,
     "metadata": {},
     "output_type": "execute_result"
    }
   ],
   "source": [
    "type(tickets)"
   ]
  },
  {
   "cell_type": "code",
   "execution_count": 41,
   "id": "5f492725",
   "metadata": {},
   "outputs": [
    {
     "name": "stdout",
     "output_type": "stream",
     "text": [
      "John Smith\n",
      "My computer makes strange sounds!\n"
     ]
    }
   ],
   "source": [
    "for ticket in tickets:\n",
    "    print(ticket.customer)\n",
    "    print(ticket.issue)"
   ]
  },
  {
   "cell_type": "code",
   "execution_count": 42,
   "id": "8a4ab6c0",
   "metadata": {},
   "outputs": [
    {
     "data": {
      "text/plain": [
       "__main__.SupportTicket"
      ]
     },
     "execution_count": 42,
     "metadata": {},
     "output_type": "execute_result"
    }
   ],
   "source": [
    "type(ticket)"
   ]
  },
  {
   "cell_type": "code",
   "execution_count": null,
   "id": "0f3c54f1",
   "metadata": {},
   "outputs": [],
   "source": []
  }
 ],
 "metadata": {
  "kernelspec": {
   "display_name": "Python 3 (ipykernel)",
   "language": "python",
   "name": "python3"
  },
  "language_info": {
   "codemirror_mode": {
    "name": "ipython",
    "version": 3
   },
   "file_extension": ".py",
   "mimetype": "text/x-python",
   "name": "python",
   "nbconvert_exporter": "python",
   "pygments_lexer": "ipython3",
   "version": "3.11.0"
  }
 },
 "nbformat": 4,
 "nbformat_minor": 5
}
