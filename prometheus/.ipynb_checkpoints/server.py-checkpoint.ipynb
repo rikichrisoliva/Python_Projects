{
 "cells": [
  {
   "cell_type": "code",
   "execution_count": 33,
   "id": "98aca012",
   "metadata": {},
   "outputs": [],
   "source": [
    "# https://www.youtube.com/watch?v=HzEiRwJP6ag\n",
    "# https://github.com/marcel-dempers/docker-development-youtube-series/blob/master/monitoring/prometheus/python-application/src/server.py"
   ]
  },
  {
   "cell_type": "code",
   "execution_count": 34,
   "id": "0f9cdc6c",
   "metadata": {},
   "outputs": [],
   "source": [
    "from flask import Response, Flask, request\n",
    "import prometheus_client\n",
    "from prometheus_client.core import CollectorRegistry\n",
    "from prometheus_client import Summary, Counter, Histogram, Gauge\n",
    "import time\n",
    "\n",
    "app = Flask(__name__)"
   ]
  },
  {
   "cell_type": "code",
   "execution_count": 35,
   "id": "95852c0a",
   "metadata": {},
   "outputs": [],
   "source": [
    "# in Python, as it is a dynamic language, float values can be used to represent an infinite integer. \n",
    "# One can use float(‘inf’) as an integer to represent it as infinity\n",
    "_INF = float(\"inf\")"
   ]
  },
  {
   "cell_type": "code",
   "execution_count": 36,
   "id": "95f7bd23",
   "metadata": {},
   "outputs": [
    {
     "data": {
      "text/plain": [
       "float"
      ]
     },
     "execution_count": 36,
     "metadata": {},
     "output_type": "execute_result"
    }
   ],
   "source": [
    "type(_INF)"
   ]
  },
  {
   "cell_type": "code",
   "execution_count": 37,
   "id": "0dcd2525",
   "metadata": {},
   "outputs": [
    {
     "name": "stdout",
     "output_type": "stream",
     "text": [
      "inf\n"
     ]
    }
   ],
   "source": [
    "print(_INF)"
   ]
  },
  {
   "cell_type": "code",
   "execution_count": 38,
   "id": "a374868a",
   "metadata": {},
   "outputs": [
    {
     "data": {
      "text/plain": [
       "dict"
      ]
     },
     "execution_count": 38,
     "metadata": {},
     "output_type": "execute_result"
    }
   ],
   "source": [
    "graphs = {}\n",
    "type(graphs)"
   ]
  },
  {
   "cell_type": "code",
   "execution_count": 39,
   "id": "750c9b49",
   "metadata": {},
   "outputs": [
    {
     "ename": "ValueError",
     "evalue": "Duplicated timeseries in CollectorRegistry: {'python_request_operations_created', 'python_request_operations', 'python_request_operations_total'}",
     "output_type": "error",
     "traceback": [
      "\u001b[1;31m---------------------------------------------------------------------------\u001b[0m",
      "\u001b[1;31mValueError\u001b[0m                                Traceback (most recent call last)",
      "Cell \u001b[1;32mIn[39], line 1\u001b[0m\n\u001b[1;32m----> 1\u001b[0m graphs[\u001b[38;5;124m'\u001b[39m\u001b[38;5;124mc\u001b[39m\u001b[38;5;124m'\u001b[39m] \u001b[38;5;241m=\u001b[39m \u001b[43mCounter\u001b[49m\u001b[43m(\u001b[49m\u001b[38;5;124;43m'\u001b[39;49m\u001b[38;5;124;43mpython_request_operations_total\u001b[39;49m\u001b[38;5;124;43m'\u001b[39;49m\u001b[43m,\u001b[49m\u001b[43m \u001b[49m\u001b[38;5;124;43m'\u001b[39;49m\u001b[38;5;124;43mThe total number of processed requests\u001b[39;49m\u001b[38;5;124;43m'\u001b[39;49m\u001b[43m)\u001b[49m\n\u001b[0;32m      2\u001b[0m graphs[\u001b[38;5;124m'\u001b[39m\u001b[38;5;124mh\u001b[39m\u001b[38;5;124m'\u001b[39m] \u001b[38;5;241m=\u001b[39m Histogram(\u001b[38;5;124m'\u001b[39m\u001b[38;5;124mpython_request_duration_seconds\u001b[39m\u001b[38;5;124m'\u001b[39m, \u001b[38;5;124m'\u001b[39m\u001b[38;5;124mHistogram for the duration in seconds.\u001b[39m\u001b[38;5;124m'\u001b[39m, buckets\u001b[38;5;241m=\u001b[39m(\u001b[38;5;241m1\u001b[39m, \u001b[38;5;241m2\u001b[39m, \u001b[38;5;241m5\u001b[39m, \u001b[38;5;241m6\u001b[39m, \u001b[38;5;241m10\u001b[39m, _INF))\n",
      "File \u001b[1;32m~\\Desktop\\Training\\Python_Projects\\venv\\Lib\\site-packages\\prometheus_client\\metrics.py:143\u001b[0m, in \u001b[0;36mMetricWrapperBase.__init__\u001b[1;34m(self, name, documentation, labelnames, namespace, subsystem, unit, registry, _labelvalues)\u001b[0m\n\u001b[0;32m    140\u001b[0m \u001b[38;5;28;01mif\u001b[39;00m \u001b[38;5;129;01mnot\u001b[39;00m \u001b[38;5;28mself\u001b[39m\u001b[38;5;241m.\u001b[39m_labelvalues:\n\u001b[0;32m    141\u001b[0m     \u001b[38;5;66;03m# Register the multi-wrapper parent metric, or if a label-less metric, the whole shebang.\u001b[39;00m\n\u001b[0;32m    142\u001b[0m     \u001b[38;5;28;01mif\u001b[39;00m registry:\n\u001b[1;32m--> 143\u001b[0m         \u001b[43mregistry\u001b[49m\u001b[38;5;241;43m.\u001b[39;49m\u001b[43mregister\u001b[49m\u001b[43m(\u001b[49m\u001b[38;5;28;43mself\u001b[39;49m\u001b[43m)\u001b[49m\n",
      "File \u001b[1;32m~\\Desktop\\Training\\Python_Projects\\venv\\Lib\\site-packages\\prometheus_client\\registry.py:43\u001b[0m, in \u001b[0;36mCollectorRegistry.register\u001b[1;34m(self, collector)\u001b[0m\n\u001b[0;32m     41\u001b[0m duplicates \u001b[38;5;241m=\u001b[39m \u001b[38;5;28mset\u001b[39m(\u001b[38;5;28mself\u001b[39m\u001b[38;5;241m.\u001b[39m_names_to_collectors)\u001b[38;5;241m.\u001b[39mintersection(names)\n\u001b[0;32m     42\u001b[0m \u001b[38;5;28;01mif\u001b[39;00m duplicates:\n\u001b[1;32m---> 43\u001b[0m     \u001b[38;5;28;01mraise\u001b[39;00m \u001b[38;5;167;01mValueError\u001b[39;00m(\n\u001b[0;32m     44\u001b[0m         \u001b[38;5;124m'\u001b[39m\u001b[38;5;124mDuplicated timeseries in CollectorRegistry: \u001b[39m\u001b[38;5;132;01m{}\u001b[39;00m\u001b[38;5;124m'\u001b[39m\u001b[38;5;241m.\u001b[39mformat(\n\u001b[0;32m     45\u001b[0m             duplicates))\n\u001b[0;32m     46\u001b[0m \u001b[38;5;28;01mfor\u001b[39;00m name \u001b[38;5;129;01min\u001b[39;00m names:\n\u001b[0;32m     47\u001b[0m     \u001b[38;5;28mself\u001b[39m\u001b[38;5;241m.\u001b[39m_names_to_collectors[name] \u001b[38;5;241m=\u001b[39m collector\n",
      "\u001b[1;31mValueError\u001b[0m: Duplicated timeseries in CollectorRegistry: {'python_request_operations_created', 'python_request_operations', 'python_request_operations_total'}"
     ]
    }
   ],
   "source": [
    "graphs['c'] = Counter('python_request_operations_total', 'The total number of processed requests')\n",
    "graphs['h'] = Histogram('python_request_duration_seconds', 'Histogram for the duration in seconds.', buckets=(1, 2, 5, 6, 10, _INF))"
   ]
  },
  {
   "cell_type": "code",
   "execution_count": 44,
   "id": "17113238",
   "metadata": {},
   "outputs": [
    {
     "data": {
      "text/plain": [
       "1671729267.516366"
      ]
     },
     "execution_count": 44,
     "metadata": {},
     "output_type": "execute_result"
    }
   ],
   "source": [
    "time.time() # returns epoch timestamp - https://www.epochconverter.com/"
   ]
  },
  {
   "cell_type": "code",
   "execution_count": 55,
   "id": "0280aece",
   "metadata": {},
   "outputs": [],
   "source": [
    "time.sleep(10)"
   ]
  },
  {
   "cell_type": "code",
   "execution_count": 56,
   "id": "0a7e72ec",
   "metadata": {},
   "outputs": [
    {
     "name": "stdout",
     "output_type": "stream",
     "text": [
      "hello\n"
     ]
    }
   ],
   "source": [
    "print(\"hello\")"
   ]
  },
  {
   "cell_type": "code",
   "execution_count": 57,
   "id": "e5b60354",
   "metadata": {},
   "outputs": [
    {
     "name": "stdout",
     "output_type": "stream",
     "text": [
      "hello\n"
     ]
    }
   ],
   "source": [
    "print(\"hello\")"
   ]
  },
  {
   "cell_type": "code",
   "execution_count": 61,
   "id": "56040c4b",
   "metadata": {},
   "outputs": [],
   "source": [
    "start = time.time()"
   ]
  },
  {
   "cell_type": "code",
   "execution_count": 62,
   "id": "f8d83f5b",
   "metadata": {},
   "outputs": [],
   "source": [
    "end = time.time()"
   ]
  },
  {
   "cell_type": "code",
   "execution_count": 63,
   "id": "9977a230",
   "metadata": {},
   "outputs": [
    {
     "data": {
      "text/plain": [
       "2.6502397060394287"
      ]
     },
     "execution_count": 63,
     "metadata": {},
     "output_type": "execute_result"
    }
   ],
   "source": [
    "end - start"
   ]
  },
  {
   "cell_type": "code",
   "execution_count": 64,
   "id": "851df0dd",
   "metadata": {
    "scrolled": true
   },
   "outputs": [
    {
     "data": {
      "text/plain": [
       "list"
      ]
     },
     "execution_count": 64,
     "metadata": {},
     "output_type": "execute_result"
    }
   ],
   "source": [
    "res = []\n",
    "type(res)"
   ]
  },
  {
   "cell_type": "code",
   "execution_count": null,
   "id": "c48788b2",
   "metadata": {},
   "outputs": [],
   "source": [
    "graphs['c'].inc() # Counters go up, and reset when the process restarts.appl"
   ]
  }
 ],
 "metadata": {
  "kernelspec": {
   "display_name": "Python 3 (ipykernel)",
   "language": "python",
   "name": "python3"
  },
  "language_info": {
   "codemirror_mode": {
    "name": "ipython",
    "version": 3
   },
   "file_extension": ".py",
   "mimetype": "text/x-python",
   "name": "python",
   "nbconvert_exporter": "python",
   "pygments_lexer": "ipython3",
   "version": "3.11.0"
  }
 },
 "nbformat": 4,
 "nbformat_minor": 5
}
